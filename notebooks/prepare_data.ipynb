{
 "cells": [
  {
   "cell_type": "code",
   "execution_count": 1,
   "id": "initial_id",
   "metadata": {
    "collapsed": true,
    "ExecuteTime": {
     "end_time": "2024-05-21T20:33:35.438522300Z",
     "start_time": "2024-05-21T20:33:35.437014800Z"
    }
   },
   "outputs": [],
   "source": [
    "import json\n",
    "import pandas as pd"
   ]
  },
  {
   "cell_type": "markdown",
   "source": [
    "# Preparar datos a CSV para modelo\n",
    "## Cargamos los JSON de mongodb"
   ],
   "metadata": {
    "collapsed": false
   },
   "id": "f5a351ba1f79b506"
  },
  {
   "cell_type": "code",
   "execution_count": 2,
   "outputs": [],
   "source": [
    "persons_file = 'data/proyecto_ia_arch.persons.json'\n",
    "tracks_file = 'data/proyecto_ia_arch.tracks.json'"
   ],
   "metadata": {
    "collapsed": false,
    "ExecuteTime": {
     "end_time": "2024-05-21T20:33:35.455602200Z",
     "start_time": "2024-05-21T20:33:35.439522900Z"
    }
   },
   "id": "1d420147b81f971"
  },
  {
   "cell_type": "markdown",
   "source": [
    "## Leemos los json y los guardamos en array"
   ],
   "metadata": {
    "collapsed": false
   },
   "id": "d8c7985c0a41a7b8"
  },
  {
   "cell_type": "code",
   "execution_count": 3,
   "outputs": [],
   "source": [
    "def read_data_from_json(file_path):\n",
    "    with open(file_path, 'r') as file:\n",
    "        data = json.load(file)\n",
    "    return data"
   ],
   "metadata": {
    "collapsed": false,
    "ExecuteTime": {
     "end_time": "2024-05-21T20:33:35.460118Z",
     "start_time": "2024-05-21T20:33:35.448609200Z"
    }
   },
   "id": "c2667b8d8144dec1"
  },
  {
   "cell_type": "markdown",
   "source": [
    "## Procesamos los datos y expandimos los datos de mean y covariance"
   ],
   "metadata": {
    "collapsed": false
   },
   "id": "27f5c3b48346ebd6"
  },
  {
   "cell_type": "code",
   "execution_count": 5,
   "outputs": [],
   "source": [
    "def process_data_track(data_list):\n",
    "    df = pd.DataFrame(data_list)\n",
    "\n",
    "    mean_df = pd.DataFrame(df['mean'].tolist(), columns=[f'mean_{i}' for i in range(8)])\n",
    "    cov_df = pd.DataFrame([item for sublist in df['covariance'] for item in sublist], \n",
    "                          columns=[f'cov_{i}' for i in range(8)])\n",
    "\n",
    "    df = pd.concat([df, mean_df, cov_df], axis=1)\n",
    "\n",
    "    df.drop(['mean', 'covariance'], axis=1, inplace=True)\n",
    "\n",
    "    return df\n"
   ],
   "metadata": {
    "collapsed": false,
    "ExecuteTime": {
     "end_time": "2024-05-21T20:33:35.480767600Z",
     "start_time": "2024-05-21T20:33:35.462119200Z"
    }
   },
   "id": "c24dc915d7df4da4"
  },
  {
   "cell_type": "code",
   "execution_count": 7,
   "outputs": [],
   "source": [
    "data_person_list = read_data_from_json(persons_file)\n",
    "processed_person_df = pd.DataFrame(data_person_list)\n",
    "\n",
    "data_track_list = read_data_from_json(tracks_file)\n",
    "processed_track_df = process_data_track(data_track_list)"
   ],
   "metadata": {
    "collapsed": false,
    "ExecuteTime": {
     "end_time": "2024-05-21T20:33:35.518719800Z",
     "start_time": "2024-05-21T20:33:35.475763900Z"
    }
   },
   "id": "c6ef0394ae317b78"
  },
  {
   "cell_type": "markdown",
   "source": [
    "## Combinamos JSON en un solo CSV y lo guardamos"
   ],
   "metadata": {
    "collapsed": false
   },
   "id": "ba18b93ff94973e5"
  },
  {
   "cell_type": "code",
   "execution_count": 8,
   "outputs": [
    {
     "data": {
      "text/plain": "                                  _id_x track_id    start_time      end_time  \\\n0  {'$oid': '664699b7e3932c0e6b4589ff'}        5  1.715903e+09  1.715903e+09   \n1  {'$oid': '664699b7e3932c0e6b4589ff'}        5  1.715903e+09  1.715903e+09   \n2  {'$oid': '664699b7e3932c0e6b4589ff'}        5  1.715903e+09  1.715903e+09   \n3  {'$oid': '664699b7e3932c0e6b4589ff'}        5  1.715903e+09  1.715903e+09   \n4  {'$oid': '664699b7e3932c0e6b4589ff'}        5  1.715903e+09  1.715903e+09   \n\n                                  _id_y      conf  cord_x  cord_y  hits   age  \\\n0  {'$oid': '664699b7e3932c0e6b458a0f'}  0.695736  1218.0   140.0   3.0   3.0   \n1  {'$oid': '664699b7e3932c0e6b458a1f'}  0.625794  1226.0   145.0   6.0   6.0   \n2  {'$oid': '664699b7e3932c0e6b458a35'}  0.652951  1239.0   161.0  21.0  21.0   \n3  {'$oid': '664699b7e3932c0e6b458a45'}  0.675586  1237.0   162.0  23.0  23.0   \n4  {'$oid': '664699b7e3932c0e6b458a58'}  0.610994  1230.0   147.0   7.0   7.0   \n\n   ...        mean_6    mean_7  cov_0  cov_1     cov_2       cov_3  cov_4  \\\n0  ... -2.634086e-09  0.365734    0.0    0.0  0.000000    0.000000    0.0   \n1  ... -6.332653e-08  1.318098    0.0    0.0  0.000100    0.000000    0.0   \n2  ... -3.522832e-06  1.248149    0.0    0.0  0.000000  267.768595    0.0   \n3  ... -4.363699e-06  1.008295    0.0    0.0  0.000000  148.671367    0.0   \n4  ... -1.245114e-07  1.589709    0.0    0.0  0.000373    0.000000    0.0   \n\n        cov_5         cov_6        cov_7  \n0  402.503906  0.000000e+00     0.000000  \n1    0.000000  0.000000e+00     0.000000  \n2    0.000000  0.000000e+00  1626.861570  \n3    0.000000  0.000000e+00   366.396086  \n4    0.000000  5.674753e-10     0.000000  \n\n[5 rows x 29 columns]",
      "text/html": "<div>\n<style scoped>\n    .dataframe tbody tr th:only-of-type {\n        vertical-align: middle;\n    }\n\n    .dataframe tbody tr th {\n        vertical-align: top;\n    }\n\n    .dataframe thead th {\n        text-align: right;\n    }\n</style>\n<table border=\"1\" class=\"dataframe\">\n  <thead>\n    <tr style=\"text-align: right;\">\n      <th></th>\n      <th>_id_x</th>\n      <th>track_id</th>\n      <th>start_time</th>\n      <th>end_time</th>\n      <th>_id_y</th>\n      <th>conf</th>\n      <th>cord_x</th>\n      <th>cord_y</th>\n      <th>hits</th>\n      <th>age</th>\n      <th>...</th>\n      <th>mean_6</th>\n      <th>mean_7</th>\n      <th>cov_0</th>\n      <th>cov_1</th>\n      <th>cov_2</th>\n      <th>cov_3</th>\n      <th>cov_4</th>\n      <th>cov_5</th>\n      <th>cov_6</th>\n      <th>cov_7</th>\n    </tr>\n  </thead>\n  <tbody>\n    <tr>\n      <th>0</th>\n      <td>{'$oid': '664699b7e3932c0e6b4589ff'}</td>\n      <td>5</td>\n      <td>1.715903e+09</td>\n      <td>1.715903e+09</td>\n      <td>{'$oid': '664699b7e3932c0e6b458a0f'}</td>\n      <td>0.695736</td>\n      <td>1218.0</td>\n      <td>140.0</td>\n      <td>3.0</td>\n      <td>3.0</td>\n      <td>...</td>\n      <td>-2.634086e-09</td>\n      <td>0.365734</td>\n      <td>0.0</td>\n      <td>0.0</td>\n      <td>0.000000</td>\n      <td>0.000000</td>\n      <td>0.0</td>\n      <td>402.503906</td>\n      <td>0.000000e+00</td>\n      <td>0.000000</td>\n    </tr>\n    <tr>\n      <th>1</th>\n      <td>{'$oid': '664699b7e3932c0e6b4589ff'}</td>\n      <td>5</td>\n      <td>1.715903e+09</td>\n      <td>1.715903e+09</td>\n      <td>{'$oid': '664699b7e3932c0e6b458a1f'}</td>\n      <td>0.625794</td>\n      <td>1226.0</td>\n      <td>145.0</td>\n      <td>6.0</td>\n      <td>6.0</td>\n      <td>...</td>\n      <td>-6.332653e-08</td>\n      <td>1.318098</td>\n      <td>0.0</td>\n      <td>0.0</td>\n      <td>0.000100</td>\n      <td>0.000000</td>\n      <td>0.0</td>\n      <td>0.000000</td>\n      <td>0.000000e+00</td>\n      <td>0.000000</td>\n    </tr>\n    <tr>\n      <th>2</th>\n      <td>{'$oid': '664699b7e3932c0e6b4589ff'}</td>\n      <td>5</td>\n      <td>1.715903e+09</td>\n      <td>1.715903e+09</td>\n      <td>{'$oid': '664699b7e3932c0e6b458a35'}</td>\n      <td>0.652951</td>\n      <td>1239.0</td>\n      <td>161.0</td>\n      <td>21.0</td>\n      <td>21.0</td>\n      <td>...</td>\n      <td>-3.522832e-06</td>\n      <td>1.248149</td>\n      <td>0.0</td>\n      <td>0.0</td>\n      <td>0.000000</td>\n      <td>267.768595</td>\n      <td>0.0</td>\n      <td>0.000000</td>\n      <td>0.000000e+00</td>\n      <td>1626.861570</td>\n    </tr>\n    <tr>\n      <th>3</th>\n      <td>{'$oid': '664699b7e3932c0e6b4589ff'}</td>\n      <td>5</td>\n      <td>1.715903e+09</td>\n      <td>1.715903e+09</td>\n      <td>{'$oid': '664699b7e3932c0e6b458a45'}</td>\n      <td>0.675586</td>\n      <td>1237.0</td>\n      <td>162.0</td>\n      <td>23.0</td>\n      <td>23.0</td>\n      <td>...</td>\n      <td>-4.363699e-06</td>\n      <td>1.008295</td>\n      <td>0.0</td>\n      <td>0.0</td>\n      <td>0.000000</td>\n      <td>148.671367</td>\n      <td>0.0</td>\n      <td>0.000000</td>\n      <td>0.000000e+00</td>\n      <td>366.396086</td>\n    </tr>\n    <tr>\n      <th>4</th>\n      <td>{'$oid': '664699b7e3932c0e6b4589ff'}</td>\n      <td>5</td>\n      <td>1.715903e+09</td>\n      <td>1.715903e+09</td>\n      <td>{'$oid': '664699b7e3932c0e6b458a58'}</td>\n      <td>0.610994</td>\n      <td>1230.0</td>\n      <td>147.0</td>\n      <td>7.0</td>\n      <td>7.0</td>\n      <td>...</td>\n      <td>-1.245114e-07</td>\n      <td>1.589709</td>\n      <td>0.0</td>\n      <td>0.0</td>\n      <td>0.000373</td>\n      <td>0.000000</td>\n      <td>0.0</td>\n      <td>0.000000</td>\n      <td>5.674753e-10</td>\n      <td>0.000000</td>\n    </tr>\n  </tbody>\n</table>\n<p>5 rows × 29 columns</p>\n</div>"
     },
     "execution_count": 8,
     "metadata": {},
     "output_type": "execute_result"
    }
   ],
   "source": [
    "combined_df = pd.merge(processed_person_df, processed_track_df, on='track_id', how='inner')\n",
    "combined_df.head()"
   ],
   "metadata": {
    "collapsed": false,
    "ExecuteTime": {
     "end_time": "2024-05-21T20:33:35.531012200Z",
     "start_time": "2024-05-21T20:33:35.515718300Z"
    }
   },
   "id": "876405e67938f9c6"
  },
  {
   "cell_type": "code",
   "execution_count": 9,
   "outputs": [],
   "source": [
    "output_file = 'data/combined_data.csv'\n",
    "combined_df.to_csv(output_file, index=False)"
   ],
   "metadata": {
    "collapsed": false,
    "ExecuteTime": {
     "end_time": "2024-05-21T20:33:35.570201700Z",
     "start_time": "2024-05-21T20:33:35.532012500Z"
    }
   },
   "id": "4c6021d4a0f2bd80"
  },
  {
   "cell_type": "markdown",
   "source": [],
   "metadata": {
    "collapsed": false
   },
   "id": "b8f466981a4aa578"
  }
 ],
 "metadata": {
  "kernelspec": {
   "display_name": "Python 3",
   "language": "python",
   "name": "python3"
  },
  "language_info": {
   "codemirror_mode": {
    "name": "ipython",
    "version": 2
   },
   "file_extension": ".py",
   "mimetype": "text/x-python",
   "name": "python",
   "nbconvert_exporter": "python",
   "pygments_lexer": "ipython2",
   "version": "2.7.6"
  }
 },
 "nbformat": 4,
 "nbformat_minor": 5
}
